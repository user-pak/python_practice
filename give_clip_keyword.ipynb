{
 "cells": [
  {
   "cell_type": "code",
   "execution_count": 1,
   "id": "9d45609d-a379-4703-824b-37922e351ff7",
   "metadata": {},
   "outputs": [],
   "source": [
    "import os\n",
    "#os.getcwd()\n",
    "f = open('call_birds.py','w')"
   ]
  },
  {
   "cell_type": "code",
   "execution_count": 2,
   "id": "42260aa7-8f18-4c86-8124-e815dfcdf744",
   "metadata": {},
   "outputs": [],
   "source": [
    "#usage !python call_birds.py save <keyword>\n",
    "#      !python call_birds.py call <keyword>"
   ]
  },
  {
   "cell_type": "code",
   "execution_count": 3,
   "id": "c57fea75-421c-41eb-bdc4-95a7a2e010e1",
   "metadata": {},
   "outputs": [],
   "source": [
    "str = '''\n",
    "from sys import argv\n",
    "import shelve, pyperclip\n",
    "filename, func, keyword = argv\n",
    "birds_shelves = shelve.open('birds')\n",
    "if argv[1].lower() == 'save' :\n",
    "    birds_shelves[keyword] = pyperclip.paste()\n",
    "elif argv[1].lower() == 'call' :\n",
    "    print(birds_shelves[keyword])\n",
    "'''    "
   ]
  },
  {
   "cell_type": "code",
   "execution_count": 4,
   "id": "7f4ddfa1-d74f-4faf-8802-04b9b0164d71",
   "metadata": {},
   "outputs": [],
   "source": [
    "f.write(str)\n",
    "f.close()"
   ]
  }
 ],
 "metadata": {
  "kernelspec": {
   "display_name": "Python 3 (ipykernel)",
   "language": "python",
   "name": "python3"
  },
  "language_info": {
   "codemirror_mode": {
    "name": "ipython",
    "version": 3
   },
   "file_extension": ".py",
   "mimetype": "text/x-python",
   "name": "python",
   "nbconvert_exporter": "python",
   "pygments_lexer": "ipython3",
   "version": "3.11.7"
  }
 },
 "nbformat": 4,
 "nbformat_minor": 5
}
