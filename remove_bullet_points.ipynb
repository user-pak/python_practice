{
 "cells": [
  {
   "cell_type": "raw",
   "id": "c26413cf-9777-4342-875b-32955a6fc1f6",
   "metadata": {},
   "source": [
    "import pyperclip, re\n",
    "text = pyperclip.paste()\n",
    "#text"
   ]
  },
  {
   "cell_type": "raw",
   "id": "ed059b65-70be-44f5-907e-ed811b7d4546",
   "metadata": {},
   "source": [
    "text_reg = re.compile(r'(\\d*\\. )')\n",
    "text_list = text.split('\\n')\n",
    "#text_list"
   ]
  },
  {
   "cell_type": "code",
   "execution_count": 3,
   "id": "81fa1a37-b8f5-40ff-9d10-0e06c7f2816a",
   "metadata": {},
   "outputs": [],
   "source": [
    "for i in range(len(text_list)) :\n",
    "    mo = text_reg.search(text_list[i]).group()\n",
    "    #print(mo)\n",
    "    text_list[i] = text_list[i].replace(mo,'')\n",
    "    #print(text_list[i])\n",
    "str = '\\n'.join(text_list)\n",
    "pyperclip.copy(str)"
   ]
  }
 ],
 "metadata": {
  "kernelspec": {
   "display_name": "Python 3 (ipykernel)",
   "language": "python",
   "name": "python3"
  },
  "language_info": {
   "codemirror_mode": {
    "name": "ipython",
    "version": 3
   },
   "file_extension": ".py",
   "mimetype": "text/x-python",
   "name": "python",
   "nbconvert_exporter": "python",
   "pygments_lexer": "ipython3",
   "version": "3.11.7"
  }
 },
 "nbformat": 4,
 "nbformat_minor": 5
}
