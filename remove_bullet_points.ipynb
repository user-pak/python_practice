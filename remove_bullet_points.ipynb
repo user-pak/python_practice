{
 "cells": [
  {
   "cell_type": "code",
   "execution_count": null,
   "id": "81fa1a37-b8f5-40ff-9d10-0e06c7f2816a",
   "metadata": {},
   "outputs": [],
   "source": [
    "import pyperclip, re\n",
    "text = pyperclip.paste()\n",
    "#text\n",
    "text_reg = re.compile(r'(\\d*\\. )')\n",
    "text_list = text.split('\\n')\n",
    "#text_list\n",
    "for i in range(len(text_list)) :\n",
    "    mo = text_reg.search(text_list[i]).group()\n",
    "    #print(mo)\n",
    "    text_list[i] = text_list[i].replace(mo,'')\n",
    "    #print(text_list[i])\n",
    "str = '\\n'.join(text_list)\n",
    "pyperclip.copy(str)\n",
    "#version control"
   ]
  }
 ],
 "metadata": {
  "kernelspec": {
   "display_name": "Python 3 (ipykernel)",
   "language": "python",
   "name": "python3"
  },
  "language_info": {
   "codemirror_mode": {
    "name": "ipython",
    "version": 3
   },
   "file_extension": ".py",
   "mimetype": "text/x-python",
   "name": "python",
   "nbconvert_exporter": "python",
   "pygments_lexer": "ipython3",
   "version": "3.11.7"
  }
 },
 "nbformat": 4,
 "nbformat_minor": 5
}
