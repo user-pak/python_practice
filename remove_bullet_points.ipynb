{
 "cells": [
  {
   "cell_type": "code",
   "execution_count": 1,
   "id": "43510078-fafd-4d42-a63b-8b9cf7a45b4a",
   "metadata": {},
   "outputs": [
    {
     "data": {
      "text/plain": [
       "'1. 기본적인 java, SQL, HTML, javascript, jQuery, AngularJS, Excel을 활용해 본 적이 있다.\\r\\n2. spring으로 개발환경을 구축하고 MVC 패턴으로 웹애플리케이션을 구현해 본 적이있다.\\r\\n3. spring boot를 이용한 웹애플리케이션을 구현해 본 적이 있다.\\r\\n4. Oracle(PL/SQL, Procedure, Function 사용), mySql, mariaDB로 데이터를 모델링하고 다양한 조회 수정 삭제 기능을 수행해 본 적이 있다 .\\r\\n5. Spring Data JPA로 REST 웹서비스를 구현해 본 적이 있다.\\r\\n6. JDBC, myBatis를 사용한 웹애플리케이션을 구현해 본 적이 있다.\\r\\n7. spring security를 적용한 게시판을 구현해 본 적이 있다.\\r\\n8. 웹소켓, STOMP통신으로 메시징 처리를 해 본 적이 있다.\\r\\n9. JUnit테스트를 해 본 적이 있다.\\r\\n10. Git, SVN을 사용하여 버전관리를 해 본 적이 있다.\\r\\n11. 파일업로드/다운로드를 구현해 본 적이 있다.(파일시스템, DB)\\r\\n12. 이메일인증/휴대폰문자전송기능을 구현해 본 적이 있다. 예: coolsms, Gmail인증\\r\\n13. API를 보고 지시한 내용대로 구현해 본 적이 있다. 예 : 다음주소API, 구글/네이버로그인API\\r\\n14. PHP, C의 기본문법을 알고 있다.\\r\\n15. 리포팅 툴 사용경험이 있다.'"
      ]
     },
     "execution_count": 1,
     "metadata": {},
     "output_type": "execute_result"
    }
   ],
   "source": [
    "import pyperclip, re\n",
    "text = pyperclip.paste()\n",
    "#text"
   ]
  },
  {
   "cell_type": "code",
   "execution_count": 2,
   "id": "ab614fa0-ce2a-427a-ba9c-099ddb5100d7",
   "metadata": {},
   "outputs": [
    {
     "data": {
      "text/plain": [
       "['1. 기본적인 java, SQL, HTML, javascript, jQuery, AngularJS, Excel을 활용해 본 적이 있다.\\r',\n",
       " '2. spring으로 개발환경을 구축하고 MVC 패턴으로 웹애플리케이션을 구현해 본 적이있다.\\r',\n",
       " '3. spring boot를 이용한 웹애플리케이션을 구현해 본 적이 있다.\\r',\n",
       " '4. Oracle(PL/SQL, Procedure, Function 사용), mySql, mariaDB로 데이터를 모델링하고 다양한 조회 수정 삭제 기능을 수행해 본 적이 있다 .\\r',\n",
       " '5. Spring Data JPA로 REST 웹서비스를 구현해 본 적이 있다.\\r',\n",
       " '6. JDBC, myBatis를 사용한 웹애플리케이션을 구현해 본 적이 있다.\\r',\n",
       " '7. spring security를 적용한 게시판을 구현해 본 적이 있다.\\r',\n",
       " '8. 웹소켓, STOMP통신으로 메시징 처리를 해 본 적이 있다.\\r',\n",
       " '9. JUnit테스트를 해 본 적이 있다.\\r',\n",
       " '10. Git, SVN을 사용하여 버전관리를 해 본 적이 있다.\\r',\n",
       " '11. 파일업로드/다운로드를 구현해 본 적이 있다.(파일시스템, DB)\\r',\n",
       " '12. 이메일인증/휴대폰문자전송기능을 구현해 본 적이 있다. 예: coolsms, Gmail인증\\r',\n",
       " '13. API를 보고 지시한 내용대로 구현해 본 적이 있다. 예 : 다음주소API, 구글/네이버로그인API\\r',\n",
       " '14. PHP, C의 기본문법을 알고 있다.\\r',\n",
       " '15. 리포팅 툴 사용경험이 있다.']"
      ]
     },
     "execution_count": 2,
     "metadata": {},
     "output_type": "execute_result"
    }
   ],
   "source": [
    "text_reg = re.compile(r'(\\d*\\. )')\n",
    "text_list = text.split('\\n')\n",
    "#text_list"
   ]
  },
  {
   "cell_type": "code",
   "execution_count": 3,
   "id": "81fa1a37-b8f5-40ff-9d10-0e06c7f2816a",
   "metadata": {},
   "outputs": [],
   "source": [
    "for i in range(len(text_list)) :\n",
    "    mo = text_reg.search(text_list[i]).group()\n",
    "    #print(mo)\n",
    "    text_list[i] = text_list[i].replace(mo,'')\n",
    "    #print(text_list[i])\n",
    "str = '\\n'.join(text_list)\n",
    "pyperclip.copy(str)"
   ]
  },
  {
   "cell_type": "code",
   "execution_count": null,
   "id": "0e7edb02-d2e5-40e4-9826-9696b0d4ba97",
   "metadata": {},
   "outputs": [],
   "source": []
  },
  {
   "cell_type": "code",
   "execution_count": null,
   "id": "af56ae81-a564-4372-aa87-60ef75cfba77",
   "metadata": {},
   "outputs": [],
   "source": []
  }
 ],
 "metadata": {
  "kernelspec": {
   "display_name": "Python 3 (ipykernel)",
   "language": "python",
   "name": "python3"
  },
  "language_info": {
   "codemirror_mode": {
    "name": "ipython",
    "version": 3
   },
   "file_extension": ".py",
   "mimetype": "text/x-python",
   "name": "python",
   "nbconvert_exporter": "python",
   "pygments_lexer": "ipython3",
   "version": "3.11.7"
  }
 },
 "nbformat": 4,
 "nbformat_minor": 5
}
